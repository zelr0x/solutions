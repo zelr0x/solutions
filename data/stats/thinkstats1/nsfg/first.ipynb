{
 "cells": [
  {
   "cell_type": "markdown",
   "metadata": {},
   "source": [
    "### 1. Pregnancy: total amount\n",
    "Expected: 13593"
   ]
  },
  {
   "cell_type": "code",
   "execution_count": 2,
   "metadata": {},
   "outputs": [
    {
     "name": "stdout",
     "output_type": "stream",
     "text": [
      "Number of pregnancies: 13593\n"
     ]
    }
   ],
   "source": [
    "from lib import survey\n",
    "\n",
    "table = survey.Pregnancies()\n",
    "table.ReadRecords('datasets')\n",
    "records = table.records\n",
    "print('Number of pregnancies:', len(records))"
   ]
  },
  {
   "cell_type": "markdown",
   "metadata": {},
   "source": [
    "### 2. Outcome: live births\n",
    "https://www.icpsr.umich.edu/nsfg6/Controller?displayPage=labelDetails&fileCode=PREG&section=A&subSec=8016&srtLabel=611932"
   ]
  },
  {
   "cell_type": "code",
   "execution_count": 3,
   "metadata": {},
   "outputs": [
    {
     "name": "stdout",
     "output_type": "stream",
     "text": [
      "Total number of live births: 9148\n"
     ]
    }
   ],
   "source": [
    "live_births = [rec for rec in records if rec.outcome == 1]\n",
    "live_births = sorted(live_births, key=lambda x: x.birthord)\n",
    "live_births_total = len(live_births)\n",
    "print('Total number of live births:', live_births_total)"
   ]
  },
  {
   "cell_type": "markdown",
   "metadata": {},
   "source": [
    "### 3. Outcome: birth order\n",
    "https://www.icpsr.umich.edu/nsfg6/Controller?displayPage=labelDetails&fileCode=PREG&section=A&subSec=8016&srtLabel=611933"
   ]
  },
  {
   "cell_type": "code",
   "execution_count": 4,
   "metadata": {},
   "outputs": [
    {
     "name": "stdout",
     "output_type": "stream",
     "text": [
      "[('1', 4413), ('_', 4735)]\n"
     ]
    }
   ],
   "source": [
    "import operator\n",
    "from itertools import groupby\n",
    "from functools import reduce\n",
    "\n",
    "live_births_grouped = {k: list(v) for k, v in groupby(live_births, key=lambda x: x.birthord)}\n",
    "live_births_first = live_births_grouped[1]\n",
    "live_births_other = reduce(operator.iconcat, (v for k, v in live_births_grouped.items() if k != 1), [])\n",
    "\n",
    "live_births_first_len = len(live_births_first)\n",
    "live_births_other_len = len(live_births_other)\n",
    "live_births_grouped = [\n",
    "    ('1', live_births_first_len), \n",
    "    ('_', live_births_other_len)\n",
    "]\n",
    "\n",
    "print(live_births_grouped)"
   ]
  },
  {
   "cell_type": "markdown",
   "metadata": {},
   "source": [
    "### 4. Pregnancy: average length (weeks, grouped by birth order)"
   ]
  },
  {
   "cell_type": "code",
   "execution_count": 8,
   "metadata": {},
   "outputs": [
    {
     "name": "stdout",
     "output_type": "stream",
     "text": [
      "[('1', 38.60095173351461), ('_', 38.52291446673706)]\n"
     ]
    }
   ],
   "source": [
    "average_lengths = [\n",
    "    ('1', sum(rec.prglength for rec in live_births_first) / live_births_first_len),\n",
    "    ('_', sum(rec.prglength for rec in live_births_other) / live_births_other_len)\n",
    "]\n",
    "\n",
    "print(average_lengths)"
   ]
  },
  {
   "cell_type": "markdown",
   "metadata": {},
   "source": [
    "### Solution: http://thinkstats.com/first.py."
   ]
  }
 ],
 "metadata": {
  "kernelspec": {
   "display_name": "Python 3",
   "language": "python",
   "name": "python3"
  },
  "language_info": {
   "codemirror_mode": {
    "name": "ipython",
    "version": 3
   },
   "file_extension": ".py",
   "mimetype": "text/x-python",
   "name": "python",
   "nbconvert_exporter": "python",
   "pygments_lexer": "ipython3",
   "version": "3.7.3"
  }
 },
 "nbformat": 4,
 "nbformat_minor": 2
}
